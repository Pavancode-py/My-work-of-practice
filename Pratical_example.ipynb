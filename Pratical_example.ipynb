{
  "cells": [
    {
      "cell_type": "markdown",
      "metadata": {
        "id": "view-in-github",
        "colab_type": "text"
      },
      "source": [
        "<a href=\"https://colab.research.google.com/github/Pavancode-py/My-work-of-practice/blob/main/Pratical_example.ipynb\" target=\"_parent\"><img src=\"https://colab.research.google.com/assets/colab-badge.svg\" alt=\"Open In Colab\"/></a>"
      ]
    },
    {
      "cell_type": "code",
      "source": [
        "import numpy as np\n",
        "import pandas as pd\n",
        "import matplotlib.pyplot as plt\n",
        "import sklearn\n",
        "from sklearn.linear_model import LinearRegression\n",
        "import seaborn as sns\n",
        "sns.set()\n"
      ],
      "metadata": {
        "id": "vkNZkRtC8Fv2"
      },
      "execution_count": null,
      "outputs": []
    },
    {
      "cell_type": "code",
      "source": [
        "df = pd.read_csv(\"/content/1.04.+Real-life+example (1).csv\")\n",
        "df.head()"
      ],
      "metadata": {
        "id": "QPEGpeK78Wde"
      },
      "execution_count": null,
      "outputs": []
    },
    {
      "cell_type": "code",
      "source": [
        "# describe the data\n",
        "\n",
        "df.describe(include=\"all\")"
      ],
      "metadata": {
        "id": "CwCBBaqW8de2"
      },
      "execution_count": null,
      "outputs": []
    },
    {
      "cell_type": "code",
      "source": [
        "data=df.drop([\"Model\",],axis=1)\n",
        "data.describe(include=\"all\")"
      ],
      "metadata": {
        "id": "zAYV43Yd9i1M"
      },
      "execution_count": null,
      "outputs": []
    },
    {
      "cell_type": "code",
      "source": [
        "### dealing with missing values\n",
        "\n",
        "data.isnull().sum()"
      ],
      "metadata": {
        "id": "6jMEBG9q91av"
      },
      "execution_count": null,
      "outputs": []
    },
    {
      "cell_type": "code",
      "source": [
        "# droping the missing rows\n",
        "data_no_mv=data.dropna(axis=0)\n",
        "data_no_mv.describe(include=\"all\")"
      ],
      "metadata": {
        "id": "hfYEKijE_MfT"
      },
      "execution_count": null,
      "outputs": []
    },
    {
      "cell_type": "markdown",
      "source": [
        "Exploring PDF's"
      ],
      "metadata": {
        "id": "ikfOOUVXAvYl"
      }
    },
    {
      "cell_type": "code",
      "source": [
        "sns.histplot(data_no_mv[\"Price\"])\n"
      ],
      "metadata": {
        "id": "yuUmKUfN_jA9"
      },
      "execution_count": null,
      "outputs": []
    },
    {
      "cell_type": "markdown",
      "source": [
        "DEALING WITH OUTLIERS"
      ],
      "metadata": {
        "id": "Ta-oNTnACLKd"
      }
    },
    {
      "cell_type": "code",
      "source": [
        "q = data_no_mv['Price'].quantile(0.99)\n",
        "data_1 = data_no_mv[data_no_mv['Price']<q]\n",
        "data_1.describe(include='all')\n",
        "\n",
        "q = data_1['Mileage'].quantile(0.99)\n",
        "data_2 = data_1[data_1['Mileage']<q]\n",
        "\n",
        "data_3 = data_2[data_2['EngineV']<6.5]\n",
        "\n",
        "q = data_3['Year'].quantile(0.01)\n",
        "data_4 = data_3[data_3['Year']>q]"
      ],
      "metadata": {
        "id": "iiRiVkYDBBja"
      },
      "execution_count": null,
      "outputs": []
    },
    {
      "cell_type": "code",
      "source": [
        "sns.displot(data_1[\"Price\"])\n",
        "sns.displot(data_2[\"Mileage\"])\n",
        "sns.displot(data_3[\"EngineV\"])\n",
        "sns.displot(data_4[\"Year\"])\n"
      ],
      "metadata": {
        "id": "2GsyjVpyC3_r"
      },
      "execution_count": null,
      "outputs": []
    },
    {
      "cell_type": "code",
      "source": [
        "#Data cleaned\n",
        "data_cleaned= data_4.reset_index(drop=True)\n",
        "data_cleaned.describe(include=\"all\")"
      ],
      "metadata": {
        "id": "11ChDuzUHx7b"
      },
      "execution_count": null,
      "outputs": []
    },
    {
      "cell_type": "markdown",
      "source": [
        "CHECKING OLS ASSUMPATIONS"
      ],
      "metadata": {
        "id": "ZqmLLQoTYqRD"
      }
    },
    {
      "cell_type": "code",
      "source": [
        "f, (ax1,ax2,ax3) = plt.subplots(1,3, sharey=True, figsize =(15,3))\n",
        "ax1.set_title(\"Price and year\")\n",
        "ax1.scatter(data_cleaned[\"Year\"],data_cleaned[\"Price\"])\n",
        "ax2.set_title(\"Price and EngineV\")\n",
        "ax2.scatter(data_cleaned[\"EngineV\"],data_cleaned[\"Price\"])\n",
        "ax3.set_title(\"Price and Mileage\")\n",
        "ax3.scatter(data_cleaned[\"Mileage\"],data_cleaned[\"Price\"])\n"
      ],
      "metadata": {
        "id": "w0kRf7B8Lgxv"
      },
      "execution_count": null,
      "outputs": []
    },
    {
      "cell_type": "markdown",
      "source": [
        "RELAXING ASSUMPATIONS"
      ],
      "metadata": {
        "id": "jpktnRGCbWgq"
      }
    },
    {
      "cell_type": "code",
      "source": [
        "log_price = np.log(data_cleaned[\"Price\"])\n",
        "data_cleaned[\"log_price\"] = log_price\n",
        "data_cleaned"
      ],
      "metadata": {
        "id": "5xs15hsuWMde"
      },
      "execution_count": null,
      "outputs": []
    },
    {
      "cell_type": "code",
      "source": [
        "f, (ax1,ax2,ax3) = plt.subplots(1,3, sharey=True, figsize =(15,3))\n",
        "ax1.set_title(\"Log Price and year\")\n",
        "ax1.scatter(data_cleaned[\"Year\"] , data_cleaned[\"log_price\"])\n",
        "ax2.set_title(\"Log Price and EngineV\")\n",
        "ax2.scatter(data_cleaned[\"EngineV\"],data_cleaned[\"log_price\"])\n",
        "ax3.set_title(\"Log Price and Mileage\")\n",
        "ax3.scatter(data_cleaned[\"Mileage\"],data_cleaned[\"log_price\"])"
      ],
      "metadata": {
        "id": "rY3fQKDfblD3"
      },
      "execution_count": null,
      "outputs": []
    },
    {
      "cell_type": "code",
      "source": [
        "# dropping the price columns because we have added the log_price. So, the price is no longer needed.\n",
        "data_cleaned = data_cleaned.drop([\"Price\"],axis=1)"
      ],
      "metadata": {
        "id": "YjDl21imb57A"
      },
      "execution_count": null,
      "outputs": []
    },
    {
      "cell_type": "code",
      "source": [
        "data_cleaned.columns.values"
      ],
      "metadata": {
        "id": "73wIZuKZVjwa"
      },
      "execution_count": null,
      "outputs": []
    },
    {
      "cell_type": "code",
      "source": [
        "# VIF multicolinearity\n",
        "from statsmodels.stats.outliers_influence import variance_inflation_factor\n",
        "variables=data_cleaned[[\"Mileage\",\"Year\",\"EngineV\"]]\n",
        "vif=pd.DataFrame()\n",
        "# here we make use of the variance_inflation_factor, which will basically output the respective VIFs \\n\",\n",
        "vif[\"VIF\"] = [variance_inflation_factor(variables.values, i) for i in range(variables.shape[1])]\n",
        "# Finally, I like to include names so it is easier to explore the result\\n\",\n",
        "vif[\"Features\"] = variables.columns\n"
      ],
      "metadata": {
        "id": "KDMR_UnOpBV9"
      },
      "execution_count": null,
      "outputs": []
    },
    {
      "cell_type": "code",
      "source": [],
      "metadata": {
        "id": "o67wh0-Ct8y2"
      },
      "execution_count": null,
      "outputs": []
    }
  ],
  "metadata": {
    "colab": {
      "name": "Welcome To Colab",
      "provenance": [],
      "include_colab_link": true
    },
    "kernelspec": {
      "display_name": "Python 3",
      "name": "python3"
    }
  },
  "nbformat": 4,
  "nbformat_minor": 0
}