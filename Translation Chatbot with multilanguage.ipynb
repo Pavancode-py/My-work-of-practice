{
  "cells": [
    {
      "cell_type": "markdown",
      "metadata": {
        "id": "view-in-github",
        "colab_type": "text"
      },
      "source": [
        "<a href=\"https://colab.research.google.com/github/Pavancode-py/My-work-of-practice/blob/main/Translation%20Chatbot%20with%20multilanguage.ipynb\" target=\"_parent\"><img src=\"https://colab.research.google.com/assets/colab-badge.svg\" alt=\"Open In Colab\"/></a>"
      ]
    },
    {
      "cell_type": "code",
      "source": [
        "!pip install googletrans==4.0.0-rc1"
      ],
      "metadata": {
        "id": "AeGogJeE-oXA"
      },
      "execution_count": null,
      "outputs": []
    },
    {
      "cell_type": "code",
      "source": [
        "from googletrans import Translator, LANGUAGES  # pip install googletrans==4.0.0-rc1\n",
        "\n",
        "class ChatBot:\n",
        "    def __init__(self):\n",
        "        self.translator = Translator()\n",
        "        self.user_language = None  # Store the user's language (detected once)\n",
        "\n",
        "    def detect_language(self, text):\n",
        "        try:\n",
        "            detection = self.translator.detect(text)\n",
        "            return detection.lang\n",
        "        except Exception as e:\n",
        "            print(f\"Error detecting language: {e}\")\n",
        "            return None\n",
        "\n",
        "    def translate_to_english(self, text, source_language):\n",
        "        try:\n",
        "            translation = self.translator.translate(text, src=source_language, dest='en')\n",
        "            return translation.text\n",
        "        except Exception as e:\n",
        "            print(f\"Error translating to English: {e}\")\n",
        "            return None\n",
        "\n",
        "    def translate_to_user_language(self, text):\n",
        "        if not self.user_language:\n",
        "            print(\"User language not detected yet.\")\n",
        "            return None\n",
        "\n",
        "        try:\n",
        "            translation = self.translator.translate(text, dest=self.user_language)\n",
        "            return translation.text\n",
        "        except Exception as e:\n",
        "            print(f\"Error translating to user language: {e}\")\n",
        "            return None\n",
        "\n",
        "    def process_user_message(self, user_message):\n",
        "        if not self.user_language:\n",
        "            self.user_language = self.detect_language(user_message)\n",
        "            if not self.user_language:\n",
        "                return \"Could not detect language. Please try again.\"\n",
        "            print(f\"User language detected: {LANGUAGES.get(self.user_language, 'Unknown')}\") # show language detected\n",
        "\n",
        "        translated_to_english = self.translate_to_english(user_message, self.user_language)\n",
        "\n",
        "        if not translated_to_english:\n",
        "            return \"Translation to English failed.\"\n",
        "\n",
        "        # Simulate sending to the bot operator (you would display this to the operator)\n",
        "        print(\"\\n--- Message for Bot Operator (in English) ---\")\n",
        "        print(translated_to_english)\n",
        "        # print(\"--- Original Message (for user) ---\")\n",
        "        # print(user_message) # store and display to user\n",
        "\n",
        "        return translated_to_english # Return for processing by the bot operator if needed\n",
        "\n",
        "    def process_bot_response(self, bot_response):\n",
        "        translated_to_user = self.translate_to_user_language(bot_response)\n",
        "\n",
        "        if not translated_to_user:\n",
        "            return \"Translation to user language failed.\"\n",
        "\n",
        "        # Simulate sending to the user (you would display this to the user)\n",
        "        return translated_to_user # send to user\n",
        "\n",
        "# Example Usage (in a loop)\n",
        "if __name__ == \"__main__\":\n",
        "    bot = ChatBot()\n",
        "\n",
        "    while True:\n",
        "        user_input = input(\"enter your message/type close to end the chat \").lower()\n",
        "        if user_input == 'end' or user_input =='close':\n",
        "                 print(\"Thank you for chatting with me\")\n",
        "                 break\n",
        "        english_message = bot.process_user_message(user_input)\n",
        "\n",
        "        if english_message:  # Only if translation was successful\n",
        "            bot_response = input(\"Bot Operator (English): \")\n",
        "            user_output = bot.process_bot_response(bot_response)\n",
        "\n",
        "            if user_output:\n",
        "                print(f\"Bot: {user_output}\")  # user sees response\n",
        "\n",
        "\n",
        "        else:\n",
        "            print(\"Error processing message.\")"
      ],
      "metadata": {
        "id": "d5rGxZR5-nCl"
      },
      "execution_count": null,
      "outputs": []
    }
  ],
  "metadata": {
    "colab": {
      "name": "Welcome To Colab",
      "toc_visible": true,
      "provenance": [],
      "include_colab_link": true
    },
    "kernelspec": {
      "display_name": "Python 3",
      "name": "python3"
    }
  },
  "nbformat": 4,
  "nbformat_minor": 0
}