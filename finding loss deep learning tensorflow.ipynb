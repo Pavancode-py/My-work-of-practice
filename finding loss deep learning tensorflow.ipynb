{
  "cells": [
    {
      "cell_type": "markdown",
      "metadata": {
        "id": "view-in-github",
        "colab_type": "text"
      },
      "source": [
        "<a href=\"https://colab.research.google.com/github/Pavancode-py/My-work-of-practice/blob/main/finding%20loss%20deep%20learning%20tensorflow.ipynb\" target=\"_parent\"><img src=\"https://colab.research.google.com/assets/colab-badge.svg\" alt=\"Open In Colab\"/></a>"
      ]
    },
    {
      "cell_type": "code",
      "source": [
        "# import packages\n",
        "import numpy as np\n",
        "import matplotlib.pyplot as plt\n",
        "import tensorflow.compat.v1 as tf\n",
        "\n",
        "tf.disable_v2_behavior()\n"
      ],
      "metadata": {
        "id": "LAeqxadOb-w7"
      },
      "execution_count": 209,
      "outputs": []
    },
    {
      "cell_type": "code",
      "source": [
        "# random data\n",
        "\n",
        "observations = 100\n",
        "\n",
        "xs = np.random.uniform(low=-10,high=10,size=(observations,1))\n",
        "zs = np.random.uniform(-10,10,(observations,1))\n",
        "\n",
        "generated_inputs = np.column_stack((xs,zs))\n",
        "\n",
        "noise = np.random.uniform(-1,1,(observations,1))\n",
        "\n",
        "generated_targets = 2*xs - 3*zs + 5 + noise\n",
        "\n",
        "np.savez('Tensor_intro',inputs=generated_inputs,targets=generated_targets)\n"
      ],
      "metadata": {
        "id": "MLpL8cErcZut"
      },
      "execution_count": 210,
      "outputs": []
    },
    {
      "cell_type": "code",
      "source": [
        "# SOLVING THE CASE WITH TF\n",
        "\n",
        "inputs_size = 2\n",
        "outputs_size = 1\n"
      ],
      "metadata": {
        "id": "srkhp9hXdsV2"
      },
      "execution_count": 211,
      "outputs": []
    },
    {
      "cell_type": "code",
      "source": [
        "# OUTLINE THE MODEL\n",
        "# tf place holder\n",
        "\n",
        "inputs =  tf.placeholder(tf.float32,[None,inputs_size])\n",
        "targets = tf.placeholder(tf.float32,[None,outputs_size])\n",
        "\n",
        "weights = tf.Variable(tf.random.uniform([inputs_size,outputs_size],minval=-0.1, maxval=0.1))\n",
        "bias = tf.Variable(tf.random.uniform([outputs_size],minval=-0.1, maxval=0.1)) # Changed bias shape to [outputs_size]\n",
        "\n",
        "# xw + b = y\n",
        "\n",
        "outputs = tf.matmul(inputs,weights) + bias # Changed targets to weights in tf.matmul"
      ],
      "metadata": {
        "id": "3deItjjOf59I"
      },
      "execution_count": 212,
      "outputs": []
    },
    {
      "cell_type": "markdown",
      "source": [],
      "metadata": {
        "id": "J-2KHtIPgtIi"
      }
    },
    {
      "cell_type": "code",
      "source": [
        "# CHOOSING THE OBJECTIVE FUNCTION AND OPTIMIZE ALGOTHIRIMS\n",
        "\n",
        "mean_loss = tf.losses.mean_squared_error(labels=targets,predictions=outputs)/2.\n",
        "optimize = tf.train.GradientDescentOptimizer(learning_rate=0.05).minimize(mean_loss)"
      ],
      "metadata": {
        "id": "LgW8RR3-l8r6"
      },
      "execution_count": 213,
      "outputs": []
    },
    {
      "cell_type": "code",
      "source": [
        "# PREPARE FOR EXECUTION\n",
        "\n",
        "sess = tf.InteractiveSession()\n"
      ],
      "metadata": {
        "colab": {
          "base_uri": "https://localhost:8080/"
        },
        "id": "C8x462Q4mBfR",
        "outputId": "6ff4b040-dff2-4775-b7bf-c37c2ad25dcd"
      },
      "execution_count": 214,
      "outputs": [
        {
          "output_type": "stream",
          "name": "stderr",
          "text": [
            "ERROR:tensorflow:An interactive session is already active. This can cause out-of-memory errors or some other unexpected errors (due to the unpredictable timing of garbage collection) in some cases. You must explicitly call `InteractiveSession.close()` to release resources held by the other session(s). Please use `tf.Session()` if you intend to productionize.\n"
          ]
        }
      ]
    },
    {
      "cell_type": "code",
      "source": [
        "# INTIALIZE THE VARIABLE\n",
        "\n",
        "intializer = tf.global_variables_initializer()\n",
        "\n",
        "sess.run(intializer)"
      ],
      "metadata": {
        "id": "GV5AQeXQmNM4"
      },
      "execution_count": 215,
      "outputs": []
    },
    {
      "cell_type": "code",
      "source": [
        "# LOAD THE DATA\n",
        "\n",
        "training_data = np.load('Tensor_intro.npz')"
      ],
      "metadata": {
        "id": "PWhMXtKwnyOc"
      },
      "execution_count": 216,
      "outputs": []
    },
    {
      "cell_type": "code",
      "source": [
        "# LEARNING\n",
        "\n",
        "# we use the for loop\n",
        "\n",
        "for e  in range(100):\n",
        "    _, current_loss = sess.run([optimize,mean_loss],\n",
        "                              feed_dict = {inputs:training_data['inputs'],targets:training_data['targets']}) # Added targets to feed_dict\n",
        "    print(current_loss)"
      ],
      "metadata": {
        "id": "c1q1KHqpn_uL"
      },
      "execution_count": null,
      "outputs": []
    },
    {
      "cell_type": "code",
      "source": [
        "# plotting the data\n",
        "\n",
        "out = sess.run([outputs],feed_dict={inputs:training_data['inputs']})\n",
        "plt.plot(np.squeeze(training_data['targets']),np.squeeze(out))\n",
        "plt.xlabel('Targets')\n",
        "plt.ylabel('Outputs')\n",
        "plt.show()"
      ],
      "metadata": {
        "id": "jCXrOIe0tNSj"
      },
      "execution_count": null,
      "outputs": []
    }
  ],
  "metadata": {
    "colab": {
      "name": "Welcome To Colab",
      "provenance": [],
      "include_colab_link": true
    },
    "kernelspec": {
      "display_name": "Python 3",
      "name": "python3"
    }
  },
  "nbformat": 4,
  "nbformat_minor": 0
}